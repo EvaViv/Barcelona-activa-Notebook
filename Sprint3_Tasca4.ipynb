{
 "cells": [
  {
   "cell_type": "code",
   "execution_count": 1,
   "metadata": {},
   "outputs": [],
   "source": [
    "import pandas as pd\n",
    "import numpy as np\n"
   ]
  },
  {
   "cell_type": "code",
   "execution_count": 2,
   "metadata": {},
   "outputs": [],
   "source": [
    "df_products = pd.read_csv('Downloads/products_df.csv')"
   ]
  },
  {
   "cell_type": "code",
   "execution_count": 3,
   "metadata": {
    "scrolled": true
   },
   "outputs": [
    {
     "data": {
      "text/html": [
       "<div>\n",
       "<style scoped>\n",
       "    .dataframe tbody tr th:only-of-type {\n",
       "        vertical-align: middle;\n",
       "    }\n",
       "\n",
       "    .dataframe tbody tr th {\n",
       "        vertical-align: top;\n",
       "    }\n",
       "\n",
       "    .dataframe thead th {\n",
       "        text-align: right;\n",
       "    }\n",
       "</style>\n",
       "<table border=\"1\" class=\"dataframe\">\n",
       "  <thead>\n",
       "    <tr style=\"text-align: right;\">\n",
       "      <th></th>\n",
       "      <th>Unnamed: 0</th>\n",
       "      <th>pk_cid</th>\n",
       "      <th>pk_partition</th>\n",
       "      <th>short_term_deposit</th>\n",
       "      <th>loans</th>\n",
       "      <th>mortgage</th>\n",
       "      <th>funds</th>\n",
       "      <th>securities</th>\n",
       "      <th>long_term_deposit</th>\n",
       "      <th>em_account_pp</th>\n",
       "      <th>credit_card</th>\n",
       "      <th>payroll</th>\n",
       "      <th>pension_plan</th>\n",
       "      <th>payroll_account</th>\n",
       "      <th>emc_account</th>\n",
       "      <th>debit_card</th>\n",
       "      <th>em_account_p</th>\n",
       "      <th>em_acount</th>\n",
       "    </tr>\n",
       "  </thead>\n",
       "  <tbody>\n",
       "    <tr>\n",
       "      <th>0</th>\n",
       "      <td>0</td>\n",
       "      <td>1375586</td>\n",
       "      <td>2018-01-28</td>\n",
       "      <td>0</td>\n",
       "      <td>0</td>\n",
       "      <td>0</td>\n",
       "      <td>0</td>\n",
       "      <td>0</td>\n",
       "      <td>0</td>\n",
       "      <td>0</td>\n",
       "      <td>0</td>\n",
       "      <td>0.0</td>\n",
       "      <td>0.0</td>\n",
       "      <td>0</td>\n",
       "      <td>0</td>\n",
       "      <td>0</td>\n",
       "      <td>0</td>\n",
       "      <td>1</td>\n",
       "    </tr>\n",
       "    <tr>\n",
       "      <th>1</th>\n",
       "      <td>1</td>\n",
       "      <td>1050611</td>\n",
       "      <td>2018-01-28</td>\n",
       "      <td>0</td>\n",
       "      <td>0</td>\n",
       "      <td>0</td>\n",
       "      <td>0</td>\n",
       "      <td>0</td>\n",
       "      <td>0</td>\n",
       "      <td>0</td>\n",
       "      <td>0</td>\n",
       "      <td>0.0</td>\n",
       "      <td>0.0</td>\n",
       "      <td>0</td>\n",
       "      <td>0</td>\n",
       "      <td>0</td>\n",
       "      <td>0</td>\n",
       "      <td>1</td>\n",
       "    </tr>\n",
       "    <tr>\n",
       "      <th>2</th>\n",
       "      <td>2</td>\n",
       "      <td>1050612</td>\n",
       "      <td>2018-01-28</td>\n",
       "      <td>0</td>\n",
       "      <td>0</td>\n",
       "      <td>0</td>\n",
       "      <td>0</td>\n",
       "      <td>0</td>\n",
       "      <td>0</td>\n",
       "      <td>0</td>\n",
       "      <td>0</td>\n",
       "      <td>0.0</td>\n",
       "      <td>0.0</td>\n",
       "      <td>0</td>\n",
       "      <td>0</td>\n",
       "      <td>0</td>\n",
       "      <td>0</td>\n",
       "      <td>1</td>\n",
       "    </tr>\n",
       "    <tr>\n",
       "      <th>3</th>\n",
       "      <td>3</td>\n",
       "      <td>1050613</td>\n",
       "      <td>2018-01-28</td>\n",
       "      <td>1</td>\n",
       "      <td>0</td>\n",
       "      <td>0</td>\n",
       "      <td>0</td>\n",
       "      <td>0</td>\n",
       "      <td>0</td>\n",
       "      <td>0</td>\n",
       "      <td>0</td>\n",
       "      <td>0.0</td>\n",
       "      <td>0.0</td>\n",
       "      <td>0</td>\n",
       "      <td>0</td>\n",
       "      <td>0</td>\n",
       "      <td>0</td>\n",
       "      <td>0</td>\n",
       "    </tr>\n",
       "    <tr>\n",
       "      <th>4</th>\n",
       "      <td>4</td>\n",
       "      <td>1050614</td>\n",
       "      <td>2018-01-28</td>\n",
       "      <td>0</td>\n",
       "      <td>0</td>\n",
       "      <td>0</td>\n",
       "      <td>0</td>\n",
       "      <td>0</td>\n",
       "      <td>0</td>\n",
       "      <td>0</td>\n",
       "      <td>0</td>\n",
       "      <td>0.0</td>\n",
       "      <td>0.0</td>\n",
       "      <td>0</td>\n",
       "      <td>0</td>\n",
       "      <td>0</td>\n",
       "      <td>0</td>\n",
       "      <td>1</td>\n",
       "    </tr>\n",
       "    <tr>\n",
       "      <th>...</th>\n",
       "      <td>...</td>\n",
       "      <td>...</td>\n",
       "      <td>...</td>\n",
       "      <td>...</td>\n",
       "      <td>...</td>\n",
       "      <td>...</td>\n",
       "      <td>...</td>\n",
       "      <td>...</td>\n",
       "      <td>...</td>\n",
       "      <td>...</td>\n",
       "      <td>...</td>\n",
       "      <td>...</td>\n",
       "      <td>...</td>\n",
       "      <td>...</td>\n",
       "      <td>...</td>\n",
       "      <td>...</td>\n",
       "      <td>...</td>\n",
       "      <td>...</td>\n",
       "    </tr>\n",
       "    <tr>\n",
       "      <th>5962919</th>\n",
       "      <td>13647304</td>\n",
       "      <td>1166765</td>\n",
       "      <td>2019-05-28</td>\n",
       "      <td>0</td>\n",
       "      <td>0</td>\n",
       "      <td>0</td>\n",
       "      <td>0</td>\n",
       "      <td>0</td>\n",
       "      <td>0</td>\n",
       "      <td>0</td>\n",
       "      <td>0</td>\n",
       "      <td>0.0</td>\n",
       "      <td>0.0</td>\n",
       "      <td>0</td>\n",
       "      <td>0</td>\n",
       "      <td>0</td>\n",
       "      <td>0</td>\n",
       "      <td>1</td>\n",
       "    </tr>\n",
       "    <tr>\n",
       "      <th>5962920</th>\n",
       "      <td>13647305</td>\n",
       "      <td>1166764</td>\n",
       "      <td>2019-05-28</td>\n",
       "      <td>0</td>\n",
       "      <td>0</td>\n",
       "      <td>0</td>\n",
       "      <td>0</td>\n",
       "      <td>0</td>\n",
       "      <td>0</td>\n",
       "      <td>0</td>\n",
       "      <td>0</td>\n",
       "      <td>0.0</td>\n",
       "      <td>0.0</td>\n",
       "      <td>0</td>\n",
       "      <td>0</td>\n",
       "      <td>0</td>\n",
       "      <td>0</td>\n",
       "      <td>1</td>\n",
       "    </tr>\n",
       "    <tr>\n",
       "      <th>5962921</th>\n",
       "      <td>13647306</td>\n",
       "      <td>1166763</td>\n",
       "      <td>2019-05-28</td>\n",
       "      <td>0</td>\n",
       "      <td>0</td>\n",
       "      <td>0</td>\n",
       "      <td>0</td>\n",
       "      <td>0</td>\n",
       "      <td>0</td>\n",
       "      <td>0</td>\n",
       "      <td>0</td>\n",
       "      <td>0.0</td>\n",
       "      <td>0.0</td>\n",
       "      <td>0</td>\n",
       "      <td>0</td>\n",
       "      <td>0</td>\n",
       "      <td>0</td>\n",
       "      <td>1</td>\n",
       "    </tr>\n",
       "    <tr>\n",
       "      <th>5962922</th>\n",
       "      <td>13647307</td>\n",
       "      <td>1166789</td>\n",
       "      <td>2019-05-28</td>\n",
       "      <td>0</td>\n",
       "      <td>0</td>\n",
       "      <td>0</td>\n",
       "      <td>0</td>\n",
       "      <td>0</td>\n",
       "      <td>0</td>\n",
       "      <td>0</td>\n",
       "      <td>0</td>\n",
       "      <td>0.0</td>\n",
       "      <td>0.0</td>\n",
       "      <td>0</td>\n",
       "      <td>0</td>\n",
       "      <td>0</td>\n",
       "      <td>0</td>\n",
       "      <td>1</td>\n",
       "    </tr>\n",
       "    <tr>\n",
       "      <th>5962923</th>\n",
       "      <td>13647308</td>\n",
       "      <td>1550586</td>\n",
       "      <td>2019-05-28</td>\n",
       "      <td>0</td>\n",
       "      <td>0</td>\n",
       "      <td>0</td>\n",
       "      <td>0</td>\n",
       "      <td>0</td>\n",
       "      <td>0</td>\n",
       "      <td>0</td>\n",
       "      <td>0</td>\n",
       "      <td>0.0</td>\n",
       "      <td>0.0</td>\n",
       "      <td>0</td>\n",
       "      <td>0</td>\n",
       "      <td>0</td>\n",
       "      <td>0</td>\n",
       "      <td>1</td>\n",
       "    </tr>\n",
       "  </tbody>\n",
       "</table>\n",
       "<p>5962924 rows × 18 columns</p>\n",
       "</div>"
      ],
      "text/plain": [
       "         Unnamed: 0   pk_cid pk_partition  short_term_deposit  loans  \\\n",
       "0                 0  1375586   2018-01-28                   0      0   \n",
       "1                 1  1050611   2018-01-28                   0      0   \n",
       "2                 2  1050612   2018-01-28                   0      0   \n",
       "3                 3  1050613   2018-01-28                   1      0   \n",
       "4                 4  1050614   2018-01-28                   0      0   \n",
       "...             ...      ...          ...                 ...    ...   \n",
       "5962919    13647304  1166765   2019-05-28                   0      0   \n",
       "5962920    13647305  1166764   2019-05-28                   0      0   \n",
       "5962921    13647306  1166763   2019-05-28                   0      0   \n",
       "5962922    13647307  1166789   2019-05-28                   0      0   \n",
       "5962923    13647308  1550586   2019-05-28                   0      0   \n",
       "\n",
       "         mortgage  funds  securities  long_term_deposit  em_account_pp  \\\n",
       "0               0      0           0                  0              0   \n",
       "1               0      0           0                  0              0   \n",
       "2               0      0           0                  0              0   \n",
       "3               0      0           0                  0              0   \n",
       "4               0      0           0                  0              0   \n",
       "...           ...    ...         ...                ...            ...   \n",
       "5962919         0      0           0                  0              0   \n",
       "5962920         0      0           0                  0              0   \n",
       "5962921         0      0           0                  0              0   \n",
       "5962922         0      0           0                  0              0   \n",
       "5962923         0      0           0                  0              0   \n",
       "\n",
       "         credit_card  payroll  pension_plan  payroll_account  emc_account  \\\n",
       "0                  0      0.0           0.0                0            0   \n",
       "1                  0      0.0           0.0                0            0   \n",
       "2                  0      0.0           0.0                0            0   \n",
       "3                  0      0.0           0.0                0            0   \n",
       "4                  0      0.0           0.0                0            0   \n",
       "...              ...      ...           ...              ...          ...   \n",
       "5962919            0      0.0           0.0                0            0   \n",
       "5962920            0      0.0           0.0                0            0   \n",
       "5962921            0      0.0           0.0                0            0   \n",
       "5962922            0      0.0           0.0                0            0   \n",
       "5962923            0      0.0           0.0                0            0   \n",
       "\n",
       "         debit_card  em_account_p  em_acount  \n",
       "0                 0             0          1  \n",
       "1                 0             0          1  \n",
       "2                 0             0          1  \n",
       "3                 0             0          0  \n",
       "4                 0             0          1  \n",
       "...             ...           ...        ...  \n",
       "5962919           0             0          1  \n",
       "5962920           0             0          1  \n",
       "5962921           0             0          1  \n",
       "5962922           0             0          1  \n",
       "5962923           0             0          1  \n",
       "\n",
       "[5962924 rows x 18 columns]"
      ]
     },
     "execution_count": 3,
     "metadata": {},
     "output_type": "execute_result"
    }
   ],
   "source": [
    "df_products"
   ]
  },
  {
   "cell_type": "markdown",
   "metadata": {},
   "source": [
    "Ejercicio 1"
   ]
  },
  {
   "cell_type": "code",
   "execution_count": 4,
   "metadata": {},
   "outputs": [
    {
     "data": {
      "text/plain": [
       "count    5.962924e+06\n",
       "mean     1.188444e-02\n",
       "std      1.083660e-01\n",
       "min      0.000000e+00\n",
       "25%      0.000000e+00\n",
       "50%      0.000000e+00\n",
       "75%      0.000000e+00\n",
       "max      1.000000e+00\n",
       "Name: credit_card, dtype: float64"
      ]
     },
     "execution_count": 4,
     "metadata": {},
     "output_type": "execute_result"
    }
   ],
   "source": [
    "df_products['credit_card'].describe()"
   ]
  },
  {
   "cell_type": "markdown",
   "metadata": {},
   "source": [
    "Ejercicio 3"
   ]
  },
  {
   "cell_type": "code",
   "execution_count": 5,
   "metadata": {},
   "outputs": [],
   "source": [
    "df2 = df_products.iloc[:, 0:2]"
   ]
  },
  {
   "cell_type": "code",
   "execution_count": 6,
   "metadata": {},
   "outputs": [
    {
     "data": {
      "text/plain": [
       "(5962924, 2)"
      ]
     },
     "execution_count": 6,
     "metadata": {},
     "output_type": "execute_result"
    }
   ],
   "source": [
    "df2.shape"
   ]
  },
  {
   "cell_type": "markdown",
   "metadata": {},
   "source": [
    "Ejercicio 4"
   ]
  },
  {
   "cell_type": "code",
   "execution_count": 7,
   "metadata": {},
   "outputs": [
    {
     "name": "stdout",
     "output_type": "stream",
     "text": [
      "[[1.         0.37258014]\n",
      " [0.37258014 1.        ]]\n"
     ]
    }
   ],
   "source": [
    "import numpy as np\n",
    "\n",
    "np.random.seed(10)\n",
    "\n",
    "# generating 10 random values for each of the two variables\n",
    "X = np.random.randn(10)\n",
    "\n",
    "Y = np.random.randn(10)\n",
    "\n",
    "# computing the corrlation matrix\n",
    "C = np.corrcoef(X,Y)\n",
    "\n",
    "print(C)"
   ]
  },
  {
   "cell_type": "markdown",
   "metadata": {},
   "source": [
    "El valor es entre 1 y 0. Cuanto más cercano ,sea al valor 1, mayor correlación hay, entre ambas variables; hay que\\\n",
    "excluir los 1 de la matriz identidad, que corresponden a 1. En este caso, hay una correlacion entre ambas variables de\\\n",
    "un 37%, con lo que concluimos, que NO, hay una gran correlacion entre ambas variables"
   ]
  },
  {
   "cell_type": "markdown",
   "metadata": {},
   "source": [
    "Ejercicio 2"
   ]
  },
  {
   "cell_type": "code",
   "execution_count": 8,
   "metadata": {},
   "outputs": [],
   "source": [
    "a =100* np.random.random((10,10))"
   ]
  },
  {
   "cell_type": "code",
   "execution_count": 9,
   "metadata": {},
   "outputs": [
    {
     "data": {
      "text/plain": [
       "array([[44.18331744, 43.40139933, 61.77669785, 51.31382426, 65.03971819,\n",
       "        60.10389534, 80.52231968, 52.16471524, 90.86488808, 31.9236089 ],\n",
       "       [ 9.04593493, 30.07000566, 11.39843619, 82.86813263,  4.68963194,\n",
       "        62.62871483, 54.75861559, 81.92869957, 19.89475397, 85.68503025],\n",
       "       [35.16526394, 75.46476915, 29.59617069, 88.39364796, 32.55116378,\n",
       "        16.50158977, 39.25292439,  9.34603746, 82.11056578, 15.11520196],\n",
       "       [38.41144487, 94.42607122, 98.76254749, 45.63045471, 82.61228438,\n",
       "        25.13741342, 59.73716482, 90.28317603, 53.45579488, 59.0201363 ],\n",
       "       [ 3.92817672, 35.71817586,  7.96130902, 30.54599183, 33.0719312 ,\n",
       "        77.38302962,  3.99592087, 42.94921784, 31.49268718, 63.64911431],\n",
       "       [34.63471501,  4.30973562, 87.99151745, 76.32405871, 87.80966427,\n",
       "        41.75091438, 60.55775644, 51.34666274, 59.7836648 , 26.22156611],\n",
       "       [30.08713089,  2.53997821, 30.30625607, 24.20758754, 55.75781887,\n",
       "        56.55070199, 47.51322474, 29.27979763,  6.42510607, 97.88191458],\n",
       "       [33.97078436, 49.50486309, 97.70807259, 44.07738249, 31.82728055,\n",
       "        51.97969859, 57.81364299, 85.39337505,  6.80972735, 46.45308078],\n",
       "       [78.19491186, 71.86028104, 58.60219801,  3.70944132, 35.06563913,\n",
       "        56.31906845, 29.97298724, 51.23341533, 67.34669253, 15.91937334],\n",
       "       [ 5.04776702, 33.78158871, 10.80637728, 17.89028086, 88.58270962,\n",
       "        36.53649712, 21.87693492, 75.24961702, 10.68795844, 74.46032408]])"
      ]
     },
     "execution_count": 9,
     "metadata": {},
     "output_type": "execute_result"
    }
   ],
   "source": [
    "a"
   ]
  },
  {
   "cell_type": "code",
   "execution_count": 10,
   "metadata": {},
   "outputs": [
    {
     "data": {
      "text/plain": [
       "array([[44., 43., 62., 51., 65., 60., 81., 52., 91., 32.],\n",
       "       [ 9., 30., 11., 83.,  5., 63., 55., 82., 20., 86.],\n",
       "       [35., 75., 30., 88., 33., 17., 39.,  9., 82., 15.],\n",
       "       [38., 94., 99., 46., 83., 25., 60., 90., 53., 59.],\n",
       "       [ 4., 36.,  8., 31., 33., 77.,  4., 43., 31., 64.],\n",
       "       [35.,  4., 88., 76., 88., 42., 61., 51., 60., 26.],\n",
       "       [30.,  3., 30., 24., 56., 57., 48., 29.,  6., 98.],\n",
       "       [34., 50., 98., 44., 32., 52., 58., 85.,  7., 46.],\n",
       "       [78., 72., 59.,  4., 35., 56., 30., 51., 67., 16.],\n",
       "       [ 5., 34., 11., 18., 89., 37., 22., 75., 11., 74.]])"
      ]
     },
     "execution_count": 10,
     "metadata": {},
     "output_type": "execute_result"
    }
   ],
   "source": [
    "a.round(0)"
   ]
  },
  {
   "cell_type": "code",
   "execution_count": 11,
   "metadata": {},
   "outputs": [
    {
     "data": {
      "text/plain": [
       "(10, 10)"
      ]
     },
     "execution_count": 11,
     "metadata": {},
     "output_type": "execute_result"
    }
   ],
   "source": [
    "a.shape"
   ]
  },
  {
   "cell_type": "code",
   "execution_count": null,
   "metadata": {},
   "outputs": [],
   "source": []
  }
 ],
 "metadata": {
  "kernelspec": {
   "display_name": "Python 3",
   "language": "python",
   "name": "python3"
  },
  "language_info": {
   "codemirror_mode": {
    "name": "ipython",
    "version": 3
   },
   "file_extension": ".py",
   "mimetype": "text/x-python",
   "name": "python",
   "nbconvert_exporter": "python",
   "pygments_lexer": "ipython3",
   "version": "3.7.6"
  }
 },
 "nbformat": 4,
 "nbformat_minor": 4
}
